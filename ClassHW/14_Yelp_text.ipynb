{
 "cells": [
  {
   "cell_type": "markdown",
   "metadata": {},
   "source": [
    "###Homework 14 - Yelp Text Review ###\n",
    "\n",
    "**1. Read yelp.csv into a DataFrame.**"
   ]
  },
  {
   "cell_type": "code",
   "execution_count": 10,
   "metadata": {
    "collapsed": true
   },
   "outputs": [],
   "source": [
    "import pandas as pd\n",
    "data = pd.read_csv('https://raw.githubusercontent.com/justmarkham/DAT7/master/data/yelp.csv')"
   ]
  },
  {
   "cell_type": "markdown",
   "metadata": {},
   "source": [
    "**2. Create a new DataFrame that only contains the 5-star and 1-star reviews.**"
   ]
  },
  {
   "cell_type": "code",
   "execution_count": 11,
   "metadata": {
    "collapsed": false
   },
   "outputs": [],
   "source": [
    "data_lohi = data[(data.stars == 1) | (data.stars == 5)]"
   ]
  },
  {
   "cell_type": "markdown",
   "metadata": {},
   "source": [
    "**3. Split the new DataFrame into training and testing sets, using the review text as the feature and the star rating as the response.**"
   ]
  },
  {
   "cell_type": "code",
   "execution_count": 12,
   "metadata": {
    "collapsed": false
   },
   "outputs": [],
   "source": [
    "from sklearn.cross_validation import train_test_split\n",
    "X_train, X_test, y_train, y_test = train_test_split(data_lohi.text, data_lohi.stars, random_state=1)"
   ]
  },
  {
   "cell_type": "markdown",
   "metadata": {},
   "source": [
    "**4. Use CountVectorizer to create document-term matrices from X_train and X_test. Hint: You will have to tell CountVectorizer to ignore any decoding errors.**"
   ]
  },
  {
   "cell_type": "code",
   "execution_count": 17,
   "metadata": {
    "collapsed": false
   },
   "outputs": [],
   "source": [
    "from sklearn.feature_extraction.text import CountVectorizer\n",
    "vect = CountVectorizer(decode_error = 'ignore')\n",
    "\n",
    "X_train_dtm = vect.fit_transform(X_train)\n",
    "X_test_dtm = vect.transform(X_test)"
   ]
  },
  {
   "cell_type": "markdown",
   "metadata": {},
   "source": [
    "**5. Use Naive Bayes to predict the star rating for reviews in the testing set, and calculate the accuracy.**"
   ]
  },
  {
   "cell_type": "code",
   "execution_count": 20,
   "metadata": {
    "collapsed": false
   },
   "outputs": [
    {
     "data": {
      "text/plain": [
       "MultinomialNB(alpha=1.0, class_prior=None, fit_prior=True)"
      ]
     },
     "execution_count": 20,
     "metadata": {},
     "output_type": "execute_result"
    }
   ],
   "source": [
    "from sklearn.naive_bayes import MultinomialNB\n",
    "nb = MultinomialNB()\n",
    "nb.fit(X_train_dtm, y_train)"
   ]
  },
  {
   "cell_type": "code",
   "execution_count": 23,
   "metadata": {
    "collapsed": true
   },
   "outputs": [],
   "source": [
    "y_pred_class = nb.predict(X_test_dtm)"
   ]
  },
  {
   "cell_type": "code",
   "execution_count": 26,
   "metadata": {
    "collapsed": false
   },
   "outputs": [
    {
     "name": "stdout",
     "output_type": "stream",
     "text": [
      "0.918786692759\n"
     ]
    }
   ],
   "source": [
    "from sklearn import metrics\n",
    "print metrics.accuracy_score(y_test, y_pred_class)"
   ]
  },
  {
   "cell_type": "markdown",
   "metadata": {},
   "source": [
    "**6. Calculate the AUC.**\n",
    "\n",
    "- Hint 1: Make sure to pass the predicted probabilities to roc_auc_score, not the predicted classes.\n",
    "- Hint 2: roc_auc_score will get confused if y_test contains fives and ones, so you will need to create a new object that contains ones and zeros instead."
   ]
  },
  {
   "cell_type": "code",
   "execution_count": 29,
   "metadata": {
    "collapsed": true
   },
   "outputs": [],
   "source": [
    "import numpy as np\n",
    "y_test_binary = np.where(y_test==5, 1, 0)"
   ]
  },
  {
   "cell_type": "code",
   "execution_count": 31,
   "metadata": {
    "collapsed": false
   },
   "outputs": [
    {
     "name": "stdout",
     "output_type": "stream",
     "text": [
      "0.940353585141\n"
     ]
    }
   ],
   "source": [
    "y_pred_prob = nb.predict_proba(X_test_dtm)[:, 1]\n",
    "print metrics.roc_auc_score(y_test_binary, y_pred_prob)"
   ]
  },
  {
   "cell_type": "markdown",
   "metadata": {},
   "source": [
    "**7. Plot the ROC curve**"
   ]
  },
  {
   "cell_type": "markdown",
   "metadata": {},
   "source": [
    "**8. Print the confusion matrix, and calculate the sensitivity and specificity.**"
   ]
  },
  {
   "cell_type": "code",
   "execution_count": 35,
   "metadata": {
    "collapsed": false
   },
   "outputs": [
    {
     "name": "stdout",
     "output_type": "stream",
     "text": [
      "[[126  58]\n",
      " [ 25 813]]\n"
     ]
    }
   ],
   "source": [
    "print metrics.confusion_matrix(y_test, y_pred_class)"
   ]
  },
  {
   "cell_type": "code",
   "execution_count": 37,
   "metadata": {
    "collapsed": false
   },
   "outputs": [
    {
     "data": {
      "text/plain": [
       "0.9701670644391408"
      ]
     },
     "execution_count": 37,
     "metadata": {},
     "output_type": "execute_result"
    }
   ],
   "source": [
    "# sensitivity\n",
    "813 / float(813 + 25)"
   ]
  },
  {
   "cell_type": "code",
   "execution_count": 38,
   "metadata": {
    "collapsed": false
   },
   "outputs": [
    {
     "data": {
      "text/plain": [
       "0.6847826086956522"
      ]
     },
     "execution_count": 38,
     "metadata": {},
     "output_type": "execute_result"
    }
   ],
   "source": [
    "# specificity\n",
    "126 / float(126 + 58)"
   ]
  },
  {
   "cell_type": "markdown",
   "metadata": {},
   "source": [
    "**9. Browse through the review text for some of the false positives and false negatives. Based on your knowledge of how Naive Bayes works, do you have any theories about why the model is incorrectly classifying these reviews?**"
   ]
  },
  {
   "cell_type": "code",
   "execution_count": 41,
   "metadata": {
    "collapsed": false
   },
   "outputs": [
    {
     "data": {
      "text/plain": [
       "array([ 'This has to be the worst restaurant in terms of hygiene. Two of my friends had food -poisoning after having dinner here. The food is just unhealthy with tons of oil floating on the top of curries, and I am not sure if any health/hygiene code is followed here. \\r\\nThe service is poor and the information on its website is incorrect, the owner does not allow dine-in after 9 or 10 even though it says that the restaurant is open till 11. \\r\\n\\r\\nOne night I saw the owner cleaning the place without gloves and she was nice enough to give us a to-go parcel without cleaning her hands (great example to the servers!). I had a peek inside the kitchen when the door was ajar, and it definitely looked dirty.\\r\\n\\r\\nI have been a lot of hole-in-the-wall places around this restaurant, including Haji Baba, the Vietnamese place and others, but neither any of my friends nor I have fallen sick coz of the food. If you need a spicy-food fix, i strongly recommend you do not try this place, lest you want a visit to the doctor the very next day.',\n",
       "       \"If you like the stuck up Scottsdale vibe this is a good place for you. The food isn't impressive. Nice outdoor seating.\",\n",
       "       \"I'm sorry to be what seems to be the lone one star review.  Either I got there on the worst day in their history, or everyone drank the Koolaid, or I just have different expectations and taste buds.\\r\\nIt seems like a great idea.  It's a build your own burger joint, $7.00 gets you a cooked to order burger with one cheese, up to 4 toppings, and 2 sauces with fries or onion rings-or some other choices.  They also claim that the beef is local, hormone free, etcetera....\\r\\n\\r\\nI chose a rare burger with American, grilled onions, sauteed mushrooms. tomato and lettuce, with mayo and mustard on a potato bun.  I added bacon for a dollar.\\r\\n\\r\\nFirst, let me point out that if you are in a hurry, DON'T GO HERE TO EAT.  I waited exactly 39 minutes for my food. This would not be a big deal if:\\r\\n1.  I had been warned before they ran my credit card--what if I only had 30 minutes for lunch??\\r\\n2. They had places to sit but it's tiny and full.\\r\\n3.  They had magazines, a jukebox, ANYTHING to entertain you for 39 minutes.  You can't even get your drink early to sip on that.\\r\\n\\r\\nAt the 30 minute mark, I'm ready to eat cardboard with a little ketchup on it, so maybe they make you wait so everything tastes even better?\\r\\nAnyway, before my burger comes up, I notice that the lady behind the counter is saying that the orders overwhelmed the kitchen.  I look in the kitchen---they have ONE GUY TRYING TO DO ALL THIS??????   He'd better be getting a share of the profits!!!!!  Now I'm jsut feeling really bad for this guy back there.\\r\\n\\r\\nI finally get my burger!  YAY!!  I'm SO excited!  All those 4 and 5 star reviews!  I take a bite and....the patty shoots out the other side of the bun like it had been shot out of a cannon.\\r\\nWTH?  I look at the patty.  It's clean as a whistle. I mean there is no mayo or mustard or cheese smeared on the patty.  I turn it over and it slides out of my fingers back into the basket.  The other side is clean too.  The freakin' burger was so greasy, it slid all over the place!  Then a greasy glop of what must have  been the mushrooms and onions slid out.  Still not seeing any cheese, mayo, or mustard anywhere.  Just oil.  Tons and tons of oil.  I open the bun,  On one side is a heavily oiled slick of lettuce glued to the bun by (I am guessing) a slice of cheese.  The other side of the bun has some mayo and mustard residue--and more oil.  I'm grossed out, but hungry.  I take a bite.  It's not rare,  It's well done and oddly, tastes very faintly of liver.  BTW, remember the bacon I paid a dollar for?  Not there.  I'm really puzzled that instead of cheese. or beef, or SOMETHING, I just taste that faint livery taste. So I take another bite.There isn't even any salt or pepper, or anything on the burger patty.  This is perhaps, the worst grade of meat available for human consumption.  I take a third bite because that second bite brought back a memory of when I worked for a meat company here in town.  Now I recognize the flavor.  I'm not saying that what I ate that day at Two Hippies was old dairy cow, but that's EXACTLY what it tasted like.\\r\\n\\r\\nAt this point, I turn to the fries.  The are shriveled and DARK and taste like they've been fried and then microwaved.\\r\\n\\r\\nI couldn't get out of there fast enough!  Forget my danged dollar!  just get me in the car!\\r\\n\\r\\nExactly one hour and 20 minutes later, I had vicious diarrhea\\r\\n\\r\\nI haven't had that trouble even with eating junk food at the fair!\\r\\n\\r\\nNo.  NO.  A thousand times NO!\\r\\n\\r\\nRed Robin is my next burger stop.  Period\",\n",
       "       \"Went last night to Whore Foods to get basics to make pizza with, most clutch to the process was a three pack of yeast. Low and behold, the dirty hippie kids they have working there again didn't put something in the bag.\\r\\n\\r\\nAnd this time it was the yeast.\\r\\n\\r\\nI love the food there, but the employees are nothing more than entitled hippie kids from Scottsdale who can't be bothered to do their goddamn jobs! I am so sick of this crap with this corporation. Maybe its a Phoenix thing, or maybe its the hiring and firing processes of Whore Foods, but I am done shopping at any Whore Foods. In a place like Phoenix, where you have alternatives such as Sprouts, you'd think Whore Foods would smarten up.\\r\\n\\r\\nOr when you try to ask someone who works here where something is, and they just walk by with their nose high in the air. I understand its important to show your fellow dirt merchants that you're a super star, but I don't work with you, I contribute to your salary and over inflated set of benefits for a grocery clerk, so do your goddamn job. Useless little girl in need of a shower and orthodontist. \\r\\n\\r\\nBut alas, Whore Foods and its dirty hippie employees have alienated yet another person with a job and a degree into hating everything that place stands for.\\r\\n\\r\\nOh yea, one other thing, take the concealed firearm prohibition off of your stores. It didn't stop Jared Loughner from doing something horrid, and all it does is alienate law abiding citizens from their Constitutional rights. I understand you think that only parts of the Constitution should apply, but honestly I think you need to pull your collective heads out of your ass and take a shower.\\r\\n\\r\\nUseless motherf*&#$@s!\",\n",
       "       \"I found Lisa G's while driving through phoenix with a friend. The exterior looked promising and we prepared ourselves for a treat. We were in for a a shock! We ordered the antipasto plate and while there were serious issues with it, it turned out to be the best thing we were served. I ordered the chicken rolatini (the special of the day) and it was just plain bad! The chicken was dry and under seasoned, the Rosemary potatoes were soggy  and the veggie medley  (squash, corn, green beans, etc.) was over cooked and the juices spilled over into the potatoes. It was one of the worst $17 meals that I have ever had! My friend ordered the veggie salad and it was one literal hot mess. Just horrible food! I see that others had the mini burgers and bowl of balls and found them to be tasty. I wish I had ordered those. As it is this is one place I would never revisit or recommend to a friend!\",\n",
       "       'Don\\'t know where I should start. Grand opening was on September 17th, 2010. We went to try this new Dim Sum place at the Mekong Plaza as they heavily advertised in the chinese newspapers and were advertising 30% off.\\r\\n\\r\\nWhen I got there, the biggest eyesore is that they tried to make their portion of the Food Court as a regular \"Chinese\" restaurant. So imagine the picture of chandeliers hanging in the middle of a food court in the mall. It just looks too tacky, I thought they should\\'ve went with a more fast food type Dim sum like they have in San Gabriel, California.\\r\\n\\r\\nUpon checking in with the hostess, they don\\'t even issue numbers, they only call you by name. So that was already pretty different from how usual chinese restaurant run things. Totally not efficient at all.\\r\\n\\r\\nOnce we finally got a seat, things got worse.\\r\\n\\r\\nOur \"Har Gow\"/Shrimp dumpling was raw! The skin was thick and clumpy, the shrimp was severely undercooked. We asked them to exchange for another one, and it was still raw. We also had to exchange the shrimp egg roll as it was also raw. Their excuse was that they were too busy and did not have time to fully cook the food. Ok.....so how are the other 100s of asian restaurants able to serve dim sum at a fast pace with fully cooked food? That was probably the lamest excuse.\\r\\n\\r\\nThe trademark \"beef internal organs\" that I always love to order was pathetic. They charged the large price for a tiny little bowl, there were only a few tendons and mostly filled with Daikon. \\r\\n\\r\\nThe BBQ Pork bun, another staple of Dim sum, was not that great either. There was barely any char siu in the bun, and the exterior of the bun was not fully cooked.\\r\\n\\r\\nI understand that it is their first operating weekend, but the idea of a nice chinese dimsum place at a food court just doesn\\'t fly in my opinion. They even offer wedding banquets here too. \\r\\n\\r\\nI don\\'t think I\\'ll be returning here unless they really upgrade the quality of the food. The idea is definitely novel, but will be a hard sell.',\n",
       "       \"Went last week, and ordered a dozen variety. I didn't care for any of them, very dry, the frosting wasn't very good,even my 9 yr old daughter spit her cupcake out!\",\n",
       "       'Never Again,\\r\\nI brought my Mountain Bike in (which I bought 1 week earlier from Walmart) to have them replace my flat inner tubes with puncture resistant tubes.)  I came back 20 minutes later when they said it would be done and as I rode away, the back tire rhythmically rubbed against the back brake.  When I returned and told them about it, I was told the back wheel was not true.  It was true for the whole short week since I purchased it from Walmart.  I plan to take it to their competitor (Landis) and pay the extra $15-$25) to have the wheel put back to the straight condition it was in when I brought it to Slippery Pig in the first place.   I would never give a shop another penny for an extra service I should never have needed on a brand new bike which coasted perfectly when I brought it in.',\n",
       "       \"My wife and I live around the corner, hadn't eaten here in a few months. We got food for take out, Mongolian beef,kung po chicken,pad Thai noodles.  Mongolian beef, there were more white onions then scallions and it was very bland. Kung po chicken,lots of white meat chicken the whole dish only had one peanut and the taste of this dish was non existent. Very very Blah... Pad Thai noodles,the dish was dry and came out of the container in one giant clump. It tasted like plain noodles, i was glad I had peanut sauce in the fridge to,add to it. Then it was edible .... We will not be going back to G@S.. Very disappointed !!!! From now on it will be Jade palace on 92nd street. For take out Asian !!!!  Do yourself a favor go elsewhere !!!!\",\n",
       "       'D-scust-ing.',\n",
       "       'Lazy Q CLOSED in 2010.  New Owners cleaned up the place and its called JESTERS BILLIARDS.  Tons of beer, AC smoking patio with pool tables.  Re-did tables and got new cues.  Its rockin now.',\n",
       "       \"La Grande Orange Grocery has a problem. It can't decide what it wants to be when it grows up, and that makes the overall experience iffy. Is it a quick mart? A grocery store? A restaurant? A coffee shop? Unfortunately, it can't be all of them.\\r\\n\\r\\nI love La Grande Orange Pizzeria, when there is table service, fun wait-staff, and delicious food. But during the day on the weekends, the Grocery is too busy and unorganized to tolerate. It is not set up for the crowd, they do a poor job of line management, and when there is a line to order, the rest of the Grocery is impossible to navigate. To top it off, the counter staff shouts at you when your food is ready. Unnecessary.\\r\\n\\r\\nI'll certainly be back at night for the pizza, the delicious wings, and to partake of the best gelato shop adjacent to LGO. But I'm afraid that I won't be back for the weekend chaos.\",\n",
       "       'For frozen yogurt quality, I give this place a one. Honestly, it\\'s small, there\\'s very little variety in terms of toppings, and the yogurt tastes cheap... Probably because it\\'s a big franchise. There is a reason why you\\'re paying less for an ounce... Truly - you get what you pay for. \\r\\nThe concept is neat, sure, but if you\\'re looking for pizzazz then you should try Yogurtini... It\\'s just up the road from Yogurtland. Anyway, the single star says it all... \"Eek! Methinks not.\"',\n",
       "       \"this another place that i would give no stars to if possible. \\r\\nit's been on the corner of mill and university for as long as i can remember, which is impressive since nothing older than ten years has been able to withstand the rent increases, and even more impressive because i don't know a single person who goes there.\\r\\n\\r\\ni went in there one time, for drinks and walked past one of the foulest salad bars I've ever seen. for some reason, it's right by the door. instead of walking in to see a hostess stand you walk right into this brown mess of vegetables.\\r\\n\\r\\nafter seeing that first off, i wouldn't dream of ordering food here. the place is also dark and dirty and there's never anyone inside of it.\\r\\n\\r\\nseriously, I'm really curious how this place survives. awesome little neighborhood wing and live music joints like long Wong's get torn down for high rise condos, yet gross, ghost town ruby Tuesdays hangs on the corner of main and main of Tempe. what is wrong with the world?\",\n",
       "       \"Sadly with new owners comes changes on menu.  My fav Barbecue chicken salad\\r\\nno longer has a hint of the same taste. It should now be called flavor of tomato. \\r\\n Also sad to find out that the most outstanding veggie sandwich now tastes like it comes from another country. Again not a single hint of similarity of same flavor. Im sure many people will love these new changes.  Yet, Im sad it's not the same. I woke up today dreaming about the old veggie sandwich! No joking!!!!!!!!!\",\n",
       "       \"This is the closest to a New York hipster style coffee shop I've seen in Arizona.  They serve beer too.  Problem is that the espresso was unbelievably bitter.  Cookie happy hour is pretty cool though.\",\n",
       "       \"If you want a school that cares more about your financial aid money than you, this is the school for you. Education is horrible. If you are a democrat, don't speak your mind; you will be considered a reject from day one. I got 100% on my graduate papers and think I did not contribute anything to the fields. This institution is a joke.\",\n",
       "       \"Boy is the name a temptation.Seriously :)  I'll try to be fair though but I'm writing at a time were this restaurant was truly life changing. So much so that I'm buying a dining room table, additional gear for the kitchen and not frequenting any chain while I'm in my hometown based on the strength of this experience. Even in a good mood this place wouldn't be breaking a 2.5 . I'm not in a good mood.  \\r\\n\\r\\nTexas cheese fries. Pretty tasteless,mess of uncrisp steak fries that are meant to be Monterrey jack , cheddar and bacon. Either the cheese mixed itself together really well or that's not what I had. Bacon , mm that is a very generous term for the toe nail clippings of meat that ended up atop it. Saving grace was only ordering 1/2 an order.\\r\\n\\r\\nKid's meal.  Holy crap dried and scraggly carrots accompanied the most basic hot dog imaginable on the most generic bun. No refill offered this time on drink, no straw either.   By far the most cynical  kid's meal I've met. Sure make a profit but don't take the piss!  Fresh carrots are not hard to do , with white film on them.. sorry you've just earned a  1 star. Should have walked out, didn't. :( \\r\\n\\r\\nEntrees.\\r\\n\\r\\nCajun steak . Claims to be marinated in spices that I couldn't find. They may indeed have shown them a picture of the process in the recipe but I couldn't find it. Meant to be medium rare but was medium on one side , rare on the other, close though:) \\r\\n\\r\\nSirloin steak. Cooked as requested , a bit over seasoned. \\r\\n\\r\\nSides: Twice baked potato.  If you ever want to open up a salt mine these guy will do it for you. You want an idea of what it's texture was?  Twice chewed would be a better name. Warm vomit with bacon bits would be  a slightly more colorful, and chunky, term.\\r\\n\\r\\nFried onions:   came with whatever was stuck to the grill they came from.The mushrooms were the only thing that were as tasteful as expected. They looked very consistent though,  canned?   Never mind they were edible: \\r\\n\\r\\nSteak soup,really more a stew,but tasted pretty good.  Overall service was ok'ish but walking the kid to the toilet twice the staff just seemed  to want to get to where they wanted to go and not care for the toddler walking up the aisle to the restroom in front of me.  ( that's for this occasion only , past two times it's been great fun for the kid,)\\r\\n\\r\\n1.5 rounded to 1 for the carrots.\",\n",
       "       'Really, if I could, I would give this place zero stars, because it is a disgrace. If you need an emergency vet in the Scottsdale/Paradise Valley area, go to Sonora Veterinary Specialists on Cactus/40th St.(http://www.sonoraveterinaryspecialists.com/). It\\'s also 24/7, but unlike VCA PVEAH, it is a truly valuable, legitimate facility, and it\\'\\'s staffed by engaged, committed, deeply caring, and extremely knowledgeable and skilled personnel. At SVS, you and your pet are treated well and what you pay is fair and justified.\\r\\n\\r\\nVCA is the opposite of SVS in every single way. VCA is, in fact, the WORST of corporate animal service providers. The space is small, cheap, cramped, and the staff are indifferent at best and don\\'t convey any genuine love of or concern about animals in pain or distress. All they want is your money. They do NOTHING for the $99.75 they charge for an \"emergency exam.\" We essentially paid that amount just to be given an astronomical estimate, literally nothing more--our dog was the exact same bloody, traumatized mess we gave to them when they gave him back--after making us wait nearly an hour without ANY communication).  Furthermore, they tack on bogus surcharges ($5.25 for a \"biohazard waste fee\") that are irrelevant to the \"service\" provided, and their drug prices are absurd--$8 for a single Tramadol tablet, anyone?\\r\\n\\r\\nConversely, our (and our dog\\'s) experience at Sonora Veterinary Specialists was wonderful (even in the context of an emergency), and the cost was ultimately significantly less.\\r\\n\\r\\nVCA is a money-grubbing, depressing, sham.',\n",
       "       \"Don't waste your time...Arrowhead mall on the other side of town is so much better!\",\n",
       "       \"You want good food? You'd be better off smuggling goat cheese in your boot and risking an anal cavity search for doing so than eating at this airport.\\r\\n\\r\\nYou want scenery? Try desert.\\r\\n\\r\\n\\r\\nYou want a comfortable seat to wait for your delayed flight?  Well you are in the desert so you'd probably better off finding a cactus and straddling it face first.\\r\\n\\r\\nYou want a relatively close connection for your flight? Well tough shit.  Oh yeah, they've got people movers but somehow they have this magical ability to disengage people's legs.  Yeah I know it sounds crazy but as soon as people step on to these things their legs stop moving and they plant their fat ass right in the middle of the walk way.  Whats wrong with your legs you mammoth!?\",\n",
       "       \"The owner has changed hands & this place isn't what it used to be.  If you want up to date paper & quality product...go to Scrap Happy OR Crop Girls!\",\n",
       "       \"Jimmy Johns is cheaper and better ... The Capriotti food is heavy ... and it doesn't taste as good as you think it should taste\",\n",
       "       \"Buca Di Beppo is literally, italian restaurant hell. You know how all big box chain restaurants throw junk up on the walls in an attempt to make the space feel vintage? Buca Di Beppo throws junk, and knick knacks and statues and anything else 'italian' they could find in the chinese warehouse where they loaded up these goods. It's a terrible horrible mess and you end up sitting in a yardsale of italian paraphenalia while eating your very bland pasta.\\r\\n\\r\\n\\r\\nIt's embarassing how truly flavorless the food is here. Thin, flavorless alfredo sauce. Thick slabs of lasagna with less taste than what I can get out of the frozen section at Publix. I went with a large group and across the table, bland food.\\r\\n\\r\\nWhen they seat your party, they guide you through the kitchen area where the cooks play along and say a welcoming hello. Deep down you know they hate this. Why are we in the kitchen? Sure it's nice, but I'd rather have them concentrating on making the food, and making it good. Of course, the food at Buca Di Beppo seems to be far beyond any point of return to tasting good. It's just dead. Dead food. No life, no flavor, not emotion. I get more flavor from the $.99 Michelina's frozen lunch package.\\r\\n\\r\\nFar from claiming anything authentic Italian, Buca Di Beppo even pumps out bread with no taste. Eating at Buca is like eating food from an assisted living facility. No salt, no sugar, no butter, no fat, it's all gone along with anything resembling taste. Sure, Buca has huge portions, and the setup is nice for large parties and families - but they might as well just buy the family-size pasta packs from the frozen section and bake it at home, even that would be better, and they wouldn't have to the mandatory gratuity. Say what you will about other italian chains like Macaroni Grill, or Olive Garden - at least their food taste like something.\",\n",
       "       '\"Hipster,Trendy\" ????-I think NOT !!!! Very disappointing......weird crowd ( older men on the prowl? ) , and unfriendly bartenders w/ lots of attitude. I\\'ve given this a few tries thinking I just hit it on a bad night , but won\\'t be going back. So many other great places in Scottsdale to visit !',\n",
       "       'This place is closed.  Good riddance.',\n",
       "       \"Currently having a liquidation sale, but it's not really worth the trip.  I found that most books were cheaper at Amazon then the sale price.  A few were even cheaper at Barnes and Noble then the liquidation sale price!  Which just made me say to myself well that's probably why you're going out of business try some competitive pricing!  The place is an absolute disaster they've moved a lot so the sales staff doesn't even know where everything is.  Also the place just smells dirty and old, it's very unwelcoming.  It's really no surprise to me they couldn't get customers before.\",\n",
       "       'Maybe I ate at a different restaurant than the other people, or once they got through the \"soft opening\"  they gave up, because this place was not good.\\r\\n\\r\\nThe service was mediocre at best, they seemed scattered and unfocused, took five minutes to get water.  I gave up on ordering anything else after that.\\r\\n\\r\\nThe food?  Bland hamburger, that was cooked perfectly in the center.  Too bad that outside of the center inch it was completely overcooked and dry.  Soggy duck fat fried and average sweet potato fritters.  \\r\\n\\r\\nLet\\'s talk about this \"coal oven\".  While the burgers are cooked in a coal oven, you could tell by the smoke hanging over the restaurant, they are cooked in an iron skillet i.e. pan fried!  The coal adds absolutely zero to the burger.\\r\\n\\r\\nOverall, if I am going to spend $10 on a burger with no sides, it better be perfect, and this wasn\\'t.  I would also hope $5 would get me more than two fritters.',\n",
       "       'Seriously?! With grocery stores like Fresh & Easy, Trader Joe\\'s, and even Safeway around here, I wouldn\\'t go to Whole Foods regularly, for ANYTHING, unless I was a bajillionaire. 1. It\\'s wayyyy overpriced. I\\'m not sure if there\\'s a Central Market around here as haven\\'t seen one yet, but even that is better than this in terms of price! \\r\\n\\r\\nWe got a few items here, specialty items in bulk foods, for example. The wine and beer bar is cool, but unlike the Whole Foods in Austin, Tx, which was the epitome of awesome, (2) one can\\'t walk around with beverage in hand here. Too bad the rules are so stringent about that, because if I were shopping with a glass of wine, maybe I wouldn\\'t notice the horrendous prices quite so much.\\r\\n\\r\\nMy 3rd complaint is that when we ordered coffees from the coffee stand there, my mocha and my boyfriend\\'s latte tasted like motor oil, after taking forever to be made, and the girl saw me swipe my card but THEN told me she \"didn\\'t have a register person\" and I wasn\\'t able to cancel the transaction....so then we had to go back through the main grocery line again. Grrr.  I left unsatisfied, uncaffeinated, and feeling like I had just wasted ten bucks on coffee that we ended up pouring out. \\r\\n\\r\\nThey get one star for having a wine/beer bar at all, but then I have to take that star away because the bar tender said they sold the most beer and wine of any Whole Foods in existence (I call bs - the one in Austin is twelve times busier and people can shop with their beverage of choice, and they have a bunch of restaurants there too so it\\'s truly an experience - it dazzles). This leaves one star for the supply of bulk and specialty items they carry. We went to Trader Joe\\'s after, got twice as much stuff, and spent half as much money. Sayin\\'.',\n",
       "       'Absolutely awful... these guys have NO idea what they are doing!',\n",
       "       'This place sucks!! I moved to the valley and have yet to find that \"go to \" chinese spot, sooo I decided to give this spot a try. I called my order in and was assured by the employee that all the food is cooked to order, always fresh. So I picked up my food, and what do you know, I got some old azz fried rice with some microwaved shrimp. WTF??!! I give this place 2 thumbs down and I would not eat here if I was hungry as a hostage :(',\n",
       "       'It is what you would expect from any themed place called \"Heart Attack Grill\".  Mirrors on the bottom part of the bar so you can see up the skimpy outfits the \"nurses\" wear at the bar.  Van in the drive through section is painted to look like an Ambulance.  Hamburgers are named after cardiac events.\\r\\n\\r\\nThe food was bad, greasy unlimited fries and a giant hamburger that tasted as if they mixed in filler of some kind we had never experienced before.\\r\\n\\r\\nIf you plan on going, enjoy the experience cause the food will not be something you would head back for again.',\n",
       "       \"Angry Bro Bar !  Please go here if you wear size smedium affliction shirts you will love it. The bar is lame. Kid you not there was not five minutes that went by where two people didn't try and fight each other.\",\n",
       "       'Great in its day, now leaves a lot to be desired.  Deserves credit as a Phoenix landmark Chinese restaurant.  \\r\\n\\r\\nThis restaurant has been here for 38 years.  I\\'ve been going here off and on for 35 years.  I go here more for sentimental reasons, and not so much for the food.  \\r\\n\\r\\nThe interior still retains some of the original decoration style from the original restaurant established nearly 40 years ago.  The rest of the decorations have been torn out.  I believe the decor is modeled after the Forbidden Palace in Beijing - see the vault-of-the-heavens style crenelations in the ceiling.  \\r\\n\\r\\nI have this restaurant - in its former self - to thank for this:  Back in its day, this restaurant was really great, and the entire atmosphere lent to an ambiance that actually inspired me to study Chinese and then later go live over there for some years. \\r\\n\\r\\nSadly, the food here is not all that good.  The fryer oil they use here is pretty old.  The fried rice arrives looking almost black (from the fryer oil?  too much soy sauce?) instead of a rich golden brown, and tastes overcooked somehow.  The eggrolls are just OK.  Definitely not fresh.\\r\\n\\r\\nA lot of the menu items from the original owners are no longer on the menu; for example the special \"Chinese cakes\" served on a plate topped with a delicious gravy-like brown sauce and shallots - probably some form of Cantonese food.  All of this is gone, and replaced by very plain fare, and not very good at that.  \\r\\n\\r\\nIf you like salty, greasy, plain-tasting yet somehow edible Chinese food not far from the $1-per-scoop variety, then go here.  Golden Phoenix\\'s heyday as a great restaurant is long-gone.  Let us bow our heads in sadness to a place that once was very good - now passed on...',\n",
       "       'I purchased the Enotria groupon when it was released last year and had a horrible experience at the restaurant.\\r\\n\\r\\n1) I ordered a cheese platter. The platter was very much overpriced at over $18.00. The most problematic thing is that Enotria ordered the food from another restaurant on Mayo Blvd and had it delivered to them. The same is true with Pizza. If you order pizza there, it will be delivered from another restaurant in the Mayo shopping plaza. Enotria is taking a significant markup on the food because they are paying another vendor for it. AVOID THIS!!\\r\\n\\r\\n2) Another disturbing aspect of the visit was that we were served disproportionately small portion because we were using a groupon. We ordered two glasses of red wine. The waiter (who also happened to be the owner) served us a glass that was 1/3 of what is typically served.\\r\\n\\r\\nThe only positive aspect of Enotria is that they have a good selection of wines. To be sincere, you are much better off going to a more reputable establishment in the area like White Chocolate Grill.\\r\\n\\r\\nOh, also keep in mind that the current owner bought the restaurant over a year ago. It has changed ownership several times and the overall quality is suffering because of this.\\r\\n\\r\\nAVOID.',\n",
       "       'I can\\'t even believe I actually went to this restaurant.  My feeling was that if the Tommy Bahama clothing and its wearers were any indication of the dining experience, it was going to be unoriginal and in poor taste.  Alas my friend wanted to go there was his birthday lunch so....  Let me be clear that I\\'m not a food snob at all.  Just last week I enjoyed a lunch of Nachos Bell Grande and a bean and cheese burrito at Taco Bell very, very much.  That was far superior to this lunch at Tommy Bahama. \\r\\n\\r\\nThe decor was comfortable and breezy.  Everything else  - not so much.  1st it\\'s nice that they bring you bread and butter, but a sweetly flavored butter?  Why mess with the pure goodness of butter?  The glass of lemonade I ordered was sickeningly sweet, and I am a notorious for my sweet tooth.  It was undrinkable until I cut it with water.  The coconut shrimp also had an overly sweet sauce.  So much so that we could each only eat 1 of 6 shrimp.  I got the crab bisque which was crazy salty, and in my opinion, contained previously frozen hence rubbery crab meat.  \\r\\n\\r\\nAs it was my friend\\'s birthday, they brought him a complimentary dessert.  Very nice. He got the newest one which was some sort of chocolate/caramel-filled cake with oreo crust, chocolate mousse topping, sprinkled with crushed Heath bar.  Sounds good, right?  Vile, absolutely vile.  Overly sweet except for the oreo crust that was saturated in butter.  On an update note - it was not the nasty sweet butter they serve with the bread though.    \\r\\n\\r\\nMy final issue was with our young, highly attentive server.  He was very sweet and well-intentioned.  However I feel that every server in the world needs to stop speaking to customers in the collective.  Don\\'t say \"are we enjoying our coconut shrimp?\" or \"are we ready for dessert?\"  Unless I\\'ve badly misinterpreted our relationship, \"we\" aren\\'t doing anything together. Just a pet peeve -  I still tipped him 22% and kept my mouth shut about this odd little quirk.  \\r\\n\\r\\noh and the bill for coconut shrimp appy, quesadilla, cup of crab bisque, lemonade and glass of white wine?  $52.  for lunch.  \\r\\n\\r\\nTommy Bahama and I just didn\\'t work out at all.',\n",
       "       'No offense to everyone who gave this place 5 stars, but the Tempe Cinema staff needs a swift kick in the ass. During school hours, this place is regularly crawling with hooligan truants. Maybe those who run this theatre want to ensure they will have a steady stream of staffing options from the dropouts who use it as a hideout. Losers.',\n",
       "       \"Every time I come here the staff is so rude! Its the closest bar to my gate so I'm kinda stuck. Hey staff, can you please pretend to like people????\",\n",
       "       \"My mother always told me, if I didn't have anything nice to say, say nothing!\",\n",
       "       \"My boyfriend and I tried this place last year and we haven't been back since. The food was really unspectacular, they weren't really that hot. The price is a bit high since there's a restaurant by the same name on Southern and Dobson that serve much better food for less. The decor was really tacky and they should paint over the mural, it does not appeal to their clientele. Lastly, the staff was not nice.\",\n",
       "       'What are you all talking about?! This place is awful. Theres a reason why these sandwiches are $3. I can\\'t believe so many people like this place, (although the place was filled with the Chinese people and they have been known to have different taste buds ) You get a 10 inch piece of bread with a bunch of stringy cheap vegetables. From what they said, there was meat on there too,  however i forgot to bring my microscope to verify if there was any on there. This place is like a middle school cafeteria smack dab in the heart of Tokyo\\'s slums (i don\\'t know any Vietnamese cities). Please, homeless people, save your quarters, you\\'re too good for this place. They have good milkshakes, but if you really are homeless (as you should be if you\\'re going to Lee\\'s) you shouldn\\'t be buying \"rich people\" milk shakes anyways, stick with the dollar menu.',\n",
       "       'I used to always go here for tires until my mechanic noticed my tires were the incorrect size.  Back to Discount I go to correct the problem, and they blamed me. I was told that I must have chosen the smaller tires to save 20 bucks a tire.  I ended up having to spend a lot of money on five new tires (my spare is a full size as well) three weeks before Christmas. I wrote the company a letter to tell them how wrong I felt the entire experience was, and I never heard anything back.  I will not be going here for future tire needs.',\n",
       "       \"I was not impressed. The food was bad & expensive. The wait is ridiculous. Don't go.\",\n",
       "       \"Most horrible buffet I have ever been to.\\r\\n\\r\\nMy boyfriend and I are big chinese buffet fans. A ton of them have raised their prices recently (and, not surprisingly, have been closing down left and right).. so the prospect of a good buffet at 5-8 dollars was absolutely amazing. We read all the reviews on yelp and I had high hopes.\\r\\n\\r\\nDear lord. The food is awful here. Inedible. Tastes very distinctly like a bad frozen dinner.  The only thing I remember being remotely food-like was some kind of beef and onion dish.. which tasted a bit like a philly cheesesteak. not exactly asian fare..\\r\\n\\r\\nI tried really hard to like this place. My boyfriend didn't like any of it either. I don't understand how they have such good ratings. The ONLY thing I like about this place is their dessert bar, because they have toppings for the frozen yogurt. It always annoyed me how so many buffets don't even have sprinkles.. so they've got that going for them.. though I think I'll just go to Mojo or Yogurtland. haha.\\r\\n\\r\\nIn short, I don't understand how anyone can eat this garbage.\",\n",
       "       \"Staff is nice, and that's it.\\r\\nThey use very cheap tires that only last for a year.\",\n",
       "       'They served us stale rice.  Average main dishes, not as flavorful.  Not enough meat in the lamb dishes.  Overpriced.',\n",
       "       \"We were so disappointed!  We were on vacation in Scottsdale and wanted to try a Brazilian restaurant.  It was nothing like the one we have had home.  Actually it was completely worse than all three Brazilian steakhouses we have close to home.  I tried about 12 different meats and I think there were only 2 out of the 12 that were tender.  The rest were over cooked or hard as a rock.  We really wanted to love this place as I kept trying more and more of the meats as they came around hoping the next one would be better.  Besides being hard, the meats didn't have much flavor.  The salad bar was okay and I don't know that I would even pay the cheaper price to just eat from their salad bar.  This is sad that I have to say the highlight or our meal was the fresh bread and salami slice you get at the salad bar.  :(\",\n",
       "       \"this is a business located in the fry's grocery strip mall on mckellips and recker I wont say much but don't bother the waitless girl was about as pleasent as a hemroid the beer selection sucked. I belive the owner was there at least the guy looked like the owner. it's always amazing to me how the service can be so horrible w/owner in house.\",\n",
       "       'As I promised myself, I\\'d go back again to try it again. Yyyeeaahhhh...sooooo....the food is still not good. I got the mongolian beef and it\\'s like \"wha? really? is this IRL?\" \\r\\n\\r\\nI\\'m a chinese food kind of a fan, this restaurant, I\\'m not a fan of.',\n",
       "       'Cold, under done chips. If a Mexican food restaurant can not get this staple right how can I expect them to get much more right.  I arrived for a party that my autocross group was having. Every table had chips and salsa on it. Sombreros were used as the server platters. Senor I don\\'t think this even meets health code. \\r\\n\\r\\nDinner was served Buffet Style, one of the dishes was called \"fandito.\" I can\\'t think of a less inspired dish. It was simple pasta with some Mexican flavors thrown it, a dish that your mother would make if she had leftovers from Mexican Italian nights. \\r\\n\\r\\nI like really like Mexican food, however I left this place hungry as I did not even want to try any of the dishes other than the salad.',\n",
       "       \"Unless you are a regular or look like your wallet is fat don't expect the best service.  Entrees cost about 20-38 bucks and Anti pasta runs between 5-20 desserts are all 8 bucks unless you get aged balsamic vinegar.  They also have a big cheese selection. \\r\\n\\r\\nI made reservations for this restaurant and they sat us by the back door.  The waiter never once explained anything on the menu or suggested a wine to go with our meal.  He didn't even tell us about the cheese menu except to check on the one we wanted.  The other waiter for a table near ours went out of his way to explain the menu and go as far as to tell his tables how to eat the cheese ( it comes with jelly's and such) .  \\r\\n\\r\\nMy meal was good I had the duck.  She had the salmon which tasted very fishy.  Not fresh at all.  The wine was 40 bucks for a carafe ( maybe if we would have got a 100 dollar bottle we would have gotten better service)  The Dessert was good it was a rich chocolate cake with nuts and chocolate sauce. Nothing too special.  \\r\\n\\r\\nOverall the experience made the meal not worth the 115 bucks in these times not to mention they overcharged my girls card for the drinks at the bar.  If we dont want to give 25% don't charge it plain and simple.  \\r\\n\\r\\nJust a warning reservations and customer service mean nothing.  We mentioned our complaints to the waiter and manager.  We received an apology but how bout comp our dessert or something.  Hyatt Gainey staff is also rude for the most part.  \\r\\n\\r\\nTwo thumbs way down.\",\n",
       "       \"OMG! what is the rave about? this place is disgusting! it's dirty and the food is not worth it! i came here with my family and we each order a little bit of everything that is suppose to be good and popular there. unfortunately everything is bad. i walked by the waiters and they were all cursing really loud in vietnamese to each other. the table is icky and it smell like my cooked up oil . ick! go to Pho ao sen instead at least it's clean.\",\n",
       "       \"The salad plates were not chilled... As they usually are it however is a busy night but something's are expected at the olive garden... The food tasted like it was under a hot lamp for so long it tasted almost hard and also under cooked for the seafood... Not a great experience at the olive garden there are certain things expected... The expectations are not that high shouldnt be that hard to do....\",\n",
       "       'Donuts are really good, if they have any when you get there!!!  Went in on a Tuesday morning at 1030, and they only had a total of 10 donuts. Drove out of my way to go there and still ended up at Dunkin Donuts. Very disappointed!!',\n",
       "       'Totally excited to try this place out, my grandparents, my mom and I (4 of us) came here for some Korean food. It wasn\\'t too busy; just pairs of people from nearby offices coming in and out. \\r\\n\\r\\nUnlike other Korean restaurants, their lunch special selection is very limited. Special A  consists of a sushi roll with a soda, special B = teriyaki beef/chicken (no soda), or special C, Korean BBQ Spicy Chicken. \\r\\n\\r\\nAs we were looking at the \"lunch special\" board, the lady behind the counter insisted that we should look at their full price menu instead. Here comes the awkward part: she then asked my mom \"are you Chinese?\" Even though she is, my mum looked at me all puzzled as in \"what does that mean?\" The lady proceeded by pointing at the \"seafood pancake\" section on the menu and saying \"I don\\'t know why but you Chinese like this pancake a lot.\" Good thing my mom didn\\'t hear what she said.. or else... \\r\\n\\r\\nSo we got the Spicy Chicken lunch special ($6.99), a bulgogi ($6.99), and a beef yakisoba ($7.19). The cool thing about this place is that it has a mini \"kimchi\" buffet bar, with trays of marinated tofu, potato, bean sprout, kimchi, broccoli and some other vegetables. It also has this delicious house special hot sauce. \\r\\n\\r\\nBy the time we finished a dish of kimchi, the food came, so it didn\\'t take long. The spicy chicken, came in a bowl about the size of an instant-noodle bowl (but slightly deeper), was tender, with rice underneath it. The chicken was definitely marinated well; however, the last couple of pieces had tendons and big chunks of fat... what a bad way to end it. The bulgogi also came in a bowl, with rice underneath. The beef was definitely not marinated fully. The color was super light and the beef was close to tasteless. The biggest disappointment, food-wise, was the beef yakisoba. The noodles, occupying most of the Styrofoam lunch box, were sweet. Then there was an ice-cream scoop of rice, topped with 3 pieces, I kid you not, THREE pieces of dog-tag-sized, super-dry meat. \\r\\n\\r\\nIn the end, we just decided to bring the barely-touched yakisoba home for my younger brother (well, teenage boys tend to eat everything...). While my mom transfered the noodles to the plastic bowl (since the Styrofoam box was lidless), I went to ask for a plastic cover. This is the best part: the same lady, stared at me, pointed at the salad bar and said \"you can\\'t take that home\". I thought there was a miscommunication, so I asked again for a lid for the noodles. Again, she pointed at the salad bar and said \"you are not allowed to take the kimchi home\". Wow seriously? Just b/c my grandparents are Chinese you assumed we were stashing kimchi in a bowl and trying to sneak it out? \"Look, I just want to take my noodles home, ok?\" She hesitantly gave me a lid.\\r\\n\\r\\n\"Hey, hey you. we chineness peple no steal kimchi becuz Confucius say \\'no stealing kimchi\\'\"... only if I said that to her face...\\r\\n\\r\\nOh, and when we got home, my brother, aka our food dumpster, took a bite of the yakisoba and never touched it again.  \\r\\n\\r\\nConclusion: If you want amazing Korean food and friendly customer service, please just go to Chodang. Chodang is WAYYY BETTER, hands down',\n",
       "       'Still a place that is unacceptable in my book--especially when a server there goes out of their way to message me privately on Yelp to complain about my punctuation, and signing off--every so \"sincerely\" i might add, with: \" love the B*tchy waitress from AZ88.\\r\\n\\r\\nWay to keep it classy over there.....',\n",
       "       'Have been going to LGO since 2003 and have always enjoyed the cuisine. Several times - either when ordering in the grocery or dining at the Pizzeria - the music has been so headsplitting as to wipe out any ambience or semblance of a welcoming neighborhood restaurant. Last night the demographic in the Pizzeria during the course of our meal ranged from 30-80 years of age. Several pleas to turn the music down just enough to be able to hear the waiter standing next to me were greeted with \"it\\'s just how we do things\" and \"there\\'s no point in asking because they won\\'t turn it down even a little\". The waiter, David, said many servers consistently relay complaints but that the owner \"really doesn\\'t care\". Hubris is so unappetizing. I think the food is great but, because I have no desire to support a business that really doesn\\'t give a crap about its clientele, I\\'ll spend my money lavishly elsewhere.',\n",
       "       'HELLISH HELLISH SUMMER WEATHER (March thru October)\\r\\nit hurts my lungs to breath.\\r\\n\\r\\nI couldn\\'t get transcripts because I had a parking ticket I needed to pay.\\r\\nThe problem is... *i DON\\'T OWN A CAR, I don\\'t drive, I don\\'t even have a drivers license*!!\\r\\n~*~*-- aside from that one minor incident,~*~*\\r\\n\\r\\nI paid 9000 USD a semester to receive a so and so education.\\r\\nI graduated with a magna cum laude. I have attended other universities. However, I couldn\\'t help but notice the gap in the quality and variety of classes offered.\\r\\n\\r\\nFor example, you have to be a finance major to take upper level interesting finance classes.\\r\\n\\r\\nBusiness school was so and so, a lot of repetition.\\r\\nVery little hands-on and help with internships.\\r\\nWay too much groupwork and free-riding.\\r\\nThey do not have many good employers at their semi annual recruiting events.\\r\\n\\r\\nOh, and professors rarely teach the courses.\\r\\nThey have their teaching assistants teach us.\\r\\n\\r\\nAlso, there is a lack of bridging classes between lower level and upper level classes.\\r\\n Junior year when you get admitted into the \"professional program\" the level of the classes and transition isn\\'t too smooth.\\r\\n\\r\\nThe campus tutoring program is pretty helpful for general classes if you\\'re having trouble with classes (usually lower level)\\r\\n\\r\\nThere are not enough chairs/desks in some classes.\\r\\nThe students sit on the floor and cram on the stairs in the lecture halls.\\r\\n\\r\\nAlso, the classes don\\'t teach you how to think critically, which I think is crucial in college.\\r\\nPlease don\\'t waste your money, especially those of you from out of state. Its not worth it.\\r\\n\\r\\nExpect to wait in line wherever you go.\\r\\nASU accepts way too many people.\\r\\nIt would prolly accept my cat and my baby sister who barely talks if we threw money at them.\\r\\n\\r\\nThus its very difficult to get myself into the classes I need.\\r\\nThe advisors are walking advertisements of the business school.\\r\\nThey are not informed enough to advise you.\\r\\n\\r\\nI got dropped from two required prerequisite courses so I could not move on to the next level.... even after pre-registration.\\r\\nI got screwed and ended up having to take one more semester to graduate.\\r\\n\\r\\nTuition rose from 6000 a semester in Fall of 2003 to 9000 + in Fall of 2007.\\r\\nGross!!\\r\\n\\r\\nOne thing I liked was the student theatre performances. The admission $ was reasonable and quite entertaining.\\r\\n\\r\\nThe College of Architecture and Environmental design studios are pretty good and has good security.\\r\\n\\r\\nASU is not the most safe neighborhood.\\r\\nI have been approached by many shady people.\\r\\n\\r\\ndo NOT live on campus. Especially the dorms on north campus.\\r\\nThey are beyond crappy and overpriced.\\r\\nYou have to split your room with a room mate in most cases for undergrads.\\r\\nThe \"freshman year experience\" bullsh*t they pull on you, don\\'t buy it.\\r\\nand Please PLEASE please don\\'t move into Manzy Hall (Manzanita; 15 stores with triangular windows).\\r\\n\\r\\nI lived here my froshy year and its the dirtiest (rats), unhealthy (mold, pot circulation), most promiscuous place on campus.\\r\\n\\r\\nAgain, please don\\'t bother wasting your money, especially if your an out of state or international student. \\r\\nHope this helps.'], dtype=object)"
      ]
     },
     "execution_count": 41,
     "metadata": {},
     "output_type": "execute_result"
    }
   ],
   "source": [
    "# false positives\n",
    "X_test[y_test < y_pred_class]"
   ]
  }
 ],
 "metadata": {
  "kernelspec": {
   "display_name": "Python 2",
   "language": "python",
   "name": "python2"
  },
  "language_info": {
   "codemirror_mode": {
    "name": "ipython",
    "version": 2
   },
   "file_extension": ".py",
   "mimetype": "text/x-python",
   "name": "python",
   "nbconvert_exporter": "python",
   "pygments_lexer": "ipython2",
   "version": "2.7.9"
  }
 },
 "nbformat": 4,
 "nbformat_minor": 0
}
