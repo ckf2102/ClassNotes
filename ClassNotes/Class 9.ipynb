{
 "cells": [
  {
   "cell_type": "markdown",
   "metadata": {},
   "source": [
    "##Class 9\n",
    "### 29 June 2015"
   ]
  },
  {
   "cell_type": "markdown",
   "metadata": {},
   "source": [
    "#*Bias-Variance Tradeoff*\n",
    "- Black line is not the decision boundary but the ideal distinction?\n",
    "- Low k\n",
    "    - high variance\n",
    "        - how much does it vary for a particular point between realizations of the model\n",
    "        - there's a lot of change\n",
    "    - low bias: how well does it match the training data?\n",
    "    - overfitting the model: trying to follow, match every prediction rather than the underlying signal\n",
    "- High k\n",
    "    - high bias: when compared to training data, it doesn't really capture the same signal\n",
    "    - low variance: generally the color distribution doesn't change that much\n",
    "- How do we choose the correct model?\n",
    "- By changing a tuning parameter (e.g. k) you change the complexity of the model, thus changing the tradeoff between bias and variance\n",
    "    - Finding the optimum model complexity\n",
    "    - A low tuning parameter (k) indicates higher model complexity\n",
    "        - lower k makes the predictions more complex (not as smooth as the larger, more bias-resulting k values)"
   ]
  },
  {
   "cell_type": "markdown",
   "metadata": {},
   "source": [
    "#Model Evaluation\n",
    "\n",
    "- Create a procedure that *estimates* how well a model is likely to perform on out-of-sample data and use that to choose between models\n",
    "- k = 1 generally does not \"generalize\" because it fits the noise too much\n",
    "- want a model that best generalizes\n",
    "\n",
    "###*Train and test on entire data set*###\n",
    "1. Train the model on the entire dataset\n",
    "2. Test model on the same exact data, and compare how well the model predicted by comparing the predicted response values with actual response values."
   ]
  },
  {
   "cell_type": "code",
   "execution_count": 3,
   "metadata": {
    "collapsed": true
   },
   "outputs": [],
   "source": [
    "# read the iris data into a DataFrame\n",
    "import pandas as pd\n",
    "url = 'http://archive.ics.uci.edu/ml/machine-learning-databases/iris/iris.data'\n",
    "col_names = ['sepal_length', 'sepal_width', 'petal_length', 'petal_width', 'species']\n",
    "iris = pd.read_csv(url, header=None, names=col_names)"
   ]
  },
  {
   "cell_type": "code",
   "execution_count": 4,
   "metadata": {
    "collapsed": true
   },
   "outputs": [],
   "source": [
    "# map each iris species to a number\n",
    "iris['species_num'] = iris.species.map({'Iris-setosa':0, 'Iris-versicolor':1, 'Iris-virginica':2})"
   ]
  },
  {
   "cell_type": "code",
   "execution_count": 5,
   "metadata": {
    "collapsed": true
   },
   "outputs": [],
   "source": [
    "# store feature matrix in \"X\"\n",
    "feature_cols = ['sepal_length', 'sepal_width', 'petal_length', 'petal_width']\n",
    "X = iris[feature_cols]"
   ]
  },
  {
   "cell_type": "code",
   "execution_count": 6,
   "metadata": {
    "collapsed": true
   },
   "outputs": [],
   "source": [
    "# store response vector in \"y\"\n",
    "y = iris.species_num"
   ]
  },
  {
   "cell_type": "code",
   "execution_count": 7,
   "metadata": {
    "collapsed": false
   },
   "outputs": [
    {
     "data": {
      "text/plain": [
       "(150, 4)"
      ]
     },
     "execution_count": 7,
     "metadata": {},
     "output_type": "execute_result"
    }
   ],
   "source": [
    "X.shape"
   ]
  },
  {
   "cell_type": "code",
   "execution_count": 8,
   "metadata": {
    "collapsed": true
   },
   "outputs": [],
   "source": [
    "# X is our new data frame, with a shape of 150 x 4 bc we want to use those 4 features"
   ]
  },
  {
   "cell_type": "markdown",
   "metadata": {},
   "source": [
    "**KNN (K=50)**"
   ]
  },
  {
   "cell_type": "code",
   "execution_count": 9,
   "metadata": {
    "collapsed": false
   },
   "outputs": [
    {
     "data": {
      "text/plain": [
       "array([0, 0, 0, 0, 0, 0, 0, 0, 0, 0, 0, 0, 0, 0, 0, 0, 0, 0, 0, 0, 0, 0, 0,\n",
       "       0, 0, 0, 0, 0, 0, 0, 0, 0, 0, 0, 0, 0, 0, 0, 0, 0, 0, 0, 0, 0, 0, 0,\n",
       "       0, 0, 0, 0, 1, 1, 2, 1, 1, 1, 1, 1, 1, 1, 1, 1, 1, 1, 1, 1, 1, 1, 1,\n",
       "       1, 1, 1, 1, 1, 1, 1, 1, 2, 1, 1, 1, 1, 1, 1, 1, 1, 1, 1, 1, 1, 1, 1,\n",
       "       1, 1, 1, 1, 1, 1, 1, 1, 2, 2, 2, 2, 2, 2, 1, 2, 2, 2, 2, 2, 2, 2, 2,\n",
       "       2, 2, 2, 2, 1, 2, 1, 2, 2, 2, 2, 1, 1, 2, 2, 2, 2, 2, 1, 2, 2, 2, 2,\n",
       "       1, 2, 2, 2, 2, 2, 2, 2, 2, 2, 2, 2], dtype=int64)"
      ]
     },
     "execution_count": 9,
     "metadata": {},
     "output_type": "execute_result"
    }
   ],
   "source": [
    "# import the class\n",
    "from sklearn.neighbors import KNeighborsClassifier\n",
    "\n",
    "# instantiate the model\n",
    "knn = KNeighborsClassifier(n_neighbors=50)\n",
    "\n",
    "# train the model on the entire dataset\n",
    "knn.fit(X, y)\n",
    "\n",
    "# predict the response values for the observations in X (\"test the model\")\n",
    "# makes predictions for all 150\n",
    "knn.predict(X)"
   ]
  },
  {
   "cell_type": "code",
   "execution_count": 10,
   "metadata": {
    "collapsed": true
   },
   "outputs": [],
   "source": [
    "# store the predicted response values\n",
    "y_pred = knn.predict(X)"
   ]
  },
  {
   "cell_type": "markdown",
   "metadata": {},
   "source": [
    "**Evaluation Metric**\n",
    "- a numeric calculation to quantify the performance of the model\n",
    "- choose one based on goals of problem\n",
    "- most common choice for classification:\n",
    "    - Classification accuracy: a reward function, % of correct predictions --> something you want to maximize\n",
    "    - Classification error: loss function, % of incorrect predictions --> something you want to minimize\n",
    "    - error = (1 - accuracy)\n",
    "- we're using accuracy"
   ]
  },
  {
   "cell_type": "code",
   "execution_count": 11,
   "metadata": {
    "collapsed": false
   },
   "outputs": [
    {
     "name": "stdout",
     "output_type": "stream",
     "text": [
      "0.94\n"
     ]
    }
   ],
   "source": [
    "# compute classification accuracy\n",
    "# within metrics, there are a lot of different metrics available\n",
    "# always need y and y_pred (actual vs predicted)\n",
    "from sklearn import metrics\n",
    "print metrics.accuracy_score(y, y_pred)"
   ]
  },
  {
   "cell_type": "markdown",
   "metadata": {},
   "source": [
    "With k = 50, the model has 94% correct predictions\n",
    "\n",
    "AKA **training accuracy** because it's being tested on the training data, on the data used to build the model."
   ]
  },
  {
   "cell_type": "code",
   "execution_count": 12,
   "metadata": {
    "collapsed": false
   },
   "outputs": [
    {
     "name": "stdout",
     "output_type": "stream",
     "text": [
      "1.0\n"
     ]
    }
   ],
   "source": [
    "# Trying KNN with k = 1\n",
    "\n",
    "knn = KNeighborsClassifier(n_neighbors=1)\n",
    "knn.fit(X, y)\n",
    "y_pred = knn.predict(X)\n",
    "print metrics.accuracy_score(y, y_pred)"
   ]
  },
  {
   "cell_type": "markdown",
   "metadata": {},
   "source": [
    "But we know that k=1 is not the best value for k because despite being low bias, it has high variance.\n",
    "- Of course it has low bias. It's using the exact same data, with a super complex model, to predict responses which are going to be close to or exact to the observed responses"
   ]
  },
  {
   "cell_type": "markdown",
   "metadata": {},
   "source": [
    "Training accuracy: rewards overly complex models that won't necessarily generalize\n",
    "- Unnecessarily complex models overfit the training data\n",
    "- Learns the \"noise\" rather than the \"signal\"\n",
    "- Building a model too complex learns the quirks of your training data\n",
    "- Not a good estimate of out-of-sample accuracy"
   ]
  },
  {
   "cell_type": "markdown",
   "metadata": {},
   "source": [
    "###*Train/test split*###\n",
    "\n",
    "1. Split the data into two pieces: training and testing\n",
    "2. Train the model on the training set\n",
    "3. Test the model on the testing set-- how well did we do?"
   ]
  },
  {
   "cell_type": "code",
   "execution_count": 13,
   "metadata": {
    "collapsed": true
   },
   "outputs": [],
   "source": [
    "## \"unpacking\"\n",
    "def min_max(nums):\n",
    "    smallest = min(nums)\n",
    "    largest = max(nums)\n",
    "    return [smallest, largest]\n",
    "# function that returns a list of the smallest and largest value"
   ]
  },
  {
   "cell_type": "code",
   "execution_count": 14,
   "metadata": {
    "collapsed": false
   },
   "outputs": [
    {
     "name": "stdout",
     "output_type": "stream",
     "text": [
      "[1, 3]\n",
      "<type 'list'>\n"
     ]
    }
   ],
   "source": [
    "min_and_max = min_max([1, 2, 3])\n",
    "print min_and_max\n",
    "print type(min_and_max)"
   ]
  },
  {
   "cell_type": "code",
   "execution_count": 16,
   "metadata": {
    "collapsed": false
   },
   "outputs": [
    {
     "name": "stdout",
     "output_type": "stream",
     "text": [
      "1\n",
      "<type 'int'>\n",
      "3\n",
      "<type 'int'>\n"
     ]
    }
   ],
   "source": [
    "the_min, the_max = min_max([1, 2, 3]) # this is the unpacking. Can be unpacked into separate variables\n",
    "print the_min\n",
    "print type(the_min)\n",
    "print the_max\n",
    "print type(the_max)"
   ]
  },
  {
   "cell_type": "code",
   "execution_count": 17,
   "metadata": {
    "collapsed": false
   },
   "outputs": [
    {
     "name": "stdout",
     "output_type": "stream",
     "text": [
      "[array([[ 4.9,  3.1,  1.5,  0.1],\n",
      "       [ 5.1,  3.5,  1.4,  0.3],\n",
      "       [ 6.7,  3.3,  5.7,  2.1],\n",
      "       [ 5.7,  3. ,  4.2,  1.2],\n",
      "       [ 5.4,  3.4,  1.5,  0.4],\n",
      "       [ 5.6,  3. ,  4.1,  1.3],\n",
      "       [ 6.4,  3.2,  5.3,  2.3],\n",
      "       [ 6.6,  3. ,  4.4,  1.4],\n",
      "       [ 6.2,  2.2,  4.5,  1.5],\n",
      "       [ 5.8,  2.7,  5.1,  1.9],\n",
      "       [ 6. ,  3.4,  4.5,  1.6],\n",
      "       [ 5.9,  3. ,  4.2,  1.5],\n",
      "       [ 5.8,  2.6,  4. ,  1.2],\n",
      "       [ 7.7,  3. ,  6.1,  2.3],\n",
      "       [ 6.1,  3. ,  4.6,  1.4],\n",
      "       [ 6.3,  2.8,  5.1,  1.5],\n",
      "       [ 4.4,  3. ,  1.3,  0.2],\n",
      "       [ 4.6,  3.4,  1.4,  0.3],\n",
      "       [ 4.6,  3.1,  1.5,  0.2],\n",
      "       [ 5.1,  3.8,  1.9,  0.4],\n",
      "       [ 5.5,  2.3,  4. ,  1.3],\n",
      "       [ 5.1,  2.5,  3. ,  1.1],\n",
      "       [ 6.1,  2.9,  4.7,  1.4],\n",
      "       [ 5.1,  3.5,  1.4,  0.2],\n",
      "       [ 6.3,  2.5,  5. ,  1.9],\n",
      "       [ 6.8,  3. ,  5.5,  2.1],\n",
      "       [ 5.9,  3. ,  5.1,  1.8],\n",
      "       [ 7.9,  3.8,  6.4,  2. ],\n",
      "       [ 4.9,  2.4,  3.3,  1. ],\n",
      "       [ 4.6,  3.2,  1.4,  0.2],\n",
      "       [ 5.4,  3. ,  4.5,  1.5],\n",
      "       [ 5.1,  3.4,  1.5,  0.2],\n",
      "       [ 6.2,  2.9,  4.3,  1.3],\n",
      "       [ 5. ,  3. ,  1.6,  0.2],\n",
      "       [ 5. ,  3.4,  1.5,  0.2],\n",
      "       [ 6. ,  2.9,  4.5,  1.5],\n",
      "       [ 5.8,  2.7,  4.1,  1. ],\n",
      "       [ 5.8,  2.7,  5.1,  1.9],\n",
      "       [ 5.2,  4.1,  1.5,  0.1],\n",
      "       [ 6.7,  3.1,  5.6,  2.4],\n",
      "       [ 5.2,  2.7,  3.9,  1.4],\n",
      "       [ 5.6,  3. ,  4.5,  1.5],\n",
      "       [ 6.5,  2.8,  4.6,  1.5],\n",
      "       [ 6.7,  2.5,  5.8,  1.8],\n",
      "       [ 4.8,  3.4,  1.9,  0.2],\n",
      "       [ 5.8,  4. ,  1.2,  0.2],\n",
      "       [ 5.7,  2.8,  4.1,  1.3],\n",
      "       [ 7.1,  3. ,  5.9,  2.1],\n",
      "       [ 6.1,  2.8,  4.7,  1.2],\n",
      "       [ 6.3,  2.5,  4.9,  1.5],\n",
      "       [ 6. ,  3. ,  4.8,  1.8],\n",
      "       [ 5.5,  2.4,  3.8,  1.1],\n",
      "       [ 5. ,  3.4,  1.6,  0.4],\n",
      "       [ 6. ,  2.7,  5.1,  1.6],\n",
      "       [ 6.1,  2.6,  5.6,  1.4],\n",
      "       [ 6.7,  3.1,  4.4,  1.4],\n",
      "       [ 5.7,  2.5,  5. ,  2. ],\n",
      "       [ 6.4,  2.7,  5.3,  1.9],\n",
      "       [ 6.8,  3.2,  5.9,  2.3],\n",
      "       [ 5.7,  2.8,  4.5,  1.3],\n",
      "       [ 6.5,  3.2,  5.1,  2. ],\n",
      "       [ 5.1,  3.7,  1.5,  0.4],\n",
      "       [ 7.4,  2.8,  6.1,  1.9],\n",
      "       [ 4.6,  3.6,  1. ,  0.2],\n",
      "       [ 6.3,  3.3,  6. ,  2.5],\n",
      "       [ 4.8,  3.1,  1.6,  0.2],\n",
      "       [ 5. ,  3.6,  1.4,  0.2],\n",
      "       [ 5.8,  2.7,  3.9,  1.2],\n",
      "       [ 5.9,  3.2,  4.8,  1.8],\n",
      "       [ 5.7,  2.6,  3.5,  1. ],\n",
      "       [ 7.2,  3.2,  6. ,  1.8],\n",
      "       [ 6.3,  2.3,  4.4,  1.3],\n",
      "       [ 6.9,  3.1,  4.9,  1.5],\n",
      "       [ 5.1,  3.8,  1.6,  0.2],\n",
      "       [ 5.4,  3.7,  1.5,  0.2],\n",
      "       [ 7.7,  2.6,  6.9,  2.3],\n",
      "       [ 4.8,  3. ,  1.4,  0.1],\n",
      "       [ 5.4,  3.9,  1.3,  0.4],\n",
      "       [ 6.7,  3. ,  5. ,  1.7],\n",
      "       [ 6.7,  3. ,  5.2,  2.3],\n",
      "       [ 5. ,  2. ,  3.5,  1. ],\n",
      "       [ 6.7,  3.1,  4.7,  1.5],\n",
      "       [ 4.4,  2.9,  1.4,  0.2],\n",
      "       [ 7.7,  2.8,  6.7,  2. ],\n",
      "       [ 5.8,  2.8,  5.1,  2.4],\n",
      "       [ 7.7,  3.8,  6.7,  2.2],\n",
      "       [ 7.2,  3. ,  5.8,  1.6],\n",
      "       [ 7. ,  3.2,  4.7,  1.4],\n",
      "       [ 6.5,  3. ,  5.5,  1.8],\n",
      "       [ 5.7,  4.4,  1.5,  0.4]]), array([[ 5.4,  3.9,  1.7,  0.4],\n",
      "       [ 7.6,  3. ,  6.6,  2.1],\n",
      "       [ 7.3,  2.9,  6.3,  1.8],\n",
      "       [ 6.2,  3.4,  5.4,  2.3],\n",
      "       [ 5.2,  3.5,  1.5,  0.2],\n",
      "       [ 6.7,  3.3,  5.7,  2.5],\n",
      "       [ 4.7,  3.2,  1.3,  0.2],\n",
      "       [ 6.1,  3. ,  4.9,  1.8],\n",
      "       [ 4.8,  3.4,  1.6,  0.2],\n",
      "       [ 4.8,  3. ,  1.4,  0.3],\n",
      "       [ 5. ,  3.5,  1.3,  0.3],\n",
      "       [ 5.5,  2.6,  4.4,  1.2],\n",
      "       [ 5. ,  2.3,  3.3,  1. ],\n",
      "       [ 5.5,  4.2,  1.4,  0.2],\n",
      "       [ 6.4,  2.8,  5.6,  2.2],\n",
      "       [ 5.4,  3.4,  1.7,  0.2],\n",
      "       [ 7.2,  3.6,  6.1,  2.5],\n",
      "       [ 6. ,  2.2,  5. ,  1.5],\n",
      "       [ 5.5,  3.5,  1.3,  0.2],\n",
      "       [ 5.2,  3.4,  1.4,  0.2],\n",
      "       [ 4.7,  3.2,  1.6,  0.2],\n",
      "       [ 4.9,  3. ,  1.4,  0.2],\n",
      "       [ 4.9,  2.5,  4.5,  1.7],\n",
      "       [ 4.9,  3.1,  1.5,  0.1],\n",
      "       [ 6.2,  2.8,  4.8,  1.8],\n",
      "       [ 6.9,  3.2,  5.7,  2.3],\n",
      "       [ 6.3,  2.9,  5.6,  1.8],\n",
      "       [ 5.6,  2.8,  4.9,  2. ],\n",
      "       [ 5.7,  3.8,  1.7,  0.3],\n",
      "       [ 4.9,  3.1,  1.5,  0.1],\n",
      "       [ 6.1,  2.8,  4. ,  1.3],\n",
      "       [ 5. ,  3.5,  1.6,  0.6],\n",
      "       [ 6.4,  3.2,  4.5,  1.5],\n",
      "       [ 5. ,  3.3,  1.4,  0.2],\n",
      "       [ 5.7,  2.9,  4.2,  1.3],\n",
      "       [ 5.1,  3.3,  1.7,  0.5],\n",
      "       [ 6.3,  3.3,  4.7,  1.6],\n",
      "       [ 6.5,  3. ,  5.8,  2.2],\n",
      "       [ 5.6,  2.9,  3.6,  1.3],\n",
      "       [ 6.9,  3.1,  5.1,  2.3],\n",
      "       [ 5.5,  2.5,  4. ,  1.3],\n",
      "       [ 6.4,  2.9,  4.3,  1.3],\n",
      "       [ 6.4,  3.1,  5.5,  1.8],\n",
      "       [ 6.3,  3.4,  5.6,  2.4],\n",
      "       [ 4.5,  2.3,  1.3,  0.3],\n",
      "       [ 5.3,  3.7,  1.5,  0.2],\n",
      "       [ 5.1,  3.8,  1.5,  0.3],\n",
      "       [ 6.3,  2.7,  4.9,  1.8],\n",
      "       [ 5.6,  2.5,  3.9,  1.1],\n",
      "       [ 5. ,  3.2,  1.2,  0.2],\n",
      "       [ 6.6,  2.9,  4.6,  1.3],\n",
      "       [ 5.5,  2.4,  3.7,  1. ],\n",
      "       [ 6. ,  2.2,  4. ,  1. ],\n",
      "       [ 6.5,  3. ,  5.2,  2. ],\n",
      "       [ 4.4,  3.2,  1.3,  0.2],\n",
      "       [ 5.6,  2.7,  4.2,  1.3],\n",
      "       [ 6.8,  2.8,  4.8,  1.4],\n",
      "       [ 4.3,  3. ,  1.1,  0.1],\n",
      "       [ 6.9,  3.1,  5.4,  2.1],\n",
      "       [ 6.4,  2.8,  5.6,  2.1]]), array([0, 0, 2, 1, 0, 1, 2, 1, 1, 2, 1, 1, 1, 2, 1, 2, 0, 0, 0, 0, 1, 1, 1,\n",
      "       0, 2, 2, 2, 2, 1, 0, 1, 0, 1, 0, 0, 1, 1, 2, 0, 2, 1, 1, 1, 2, 0, 0,\n",
      "       1, 2, 1, 1, 2, 1, 0, 1, 2, 1, 2, 2, 2, 1, 2, 0, 2, 0, 2, 0, 0, 1, 1,\n",
      "       1, 2, 1, 1, 0, 0, 2, 0, 0, 1, 2, 1, 1, 0, 2, 2, 2, 2, 1, 2, 0], dtype=int64), array([0, 2, 2, 2, 0, 2, 0, 2, 0, 0, 0, 1, 1, 0, 2, 0, 2, 2, 0, 0, 0, 0, 2,\n",
      "       0, 2, 2, 2, 2, 0, 0, 1, 0, 1, 0, 1, 0, 1, 2, 1, 2, 1, 1, 2, 2, 0, 0,\n",
      "       0, 2, 1, 0, 1, 1, 1, 2, 0, 1, 1, 0, 2, 2], dtype=int64)]\n"
     ]
    }
   ],
   "source": [
    "# using the train-test-split function\n",
    "from sklearn.cross_validation import train_test_split\n",
    "print train_test_split(X, y, test_size=0.4)"
   ]
  }
 ],
 "metadata": {
  "kernelspec": {
   "display_name": "Python 2",
   "language": "python",
   "name": "python2"
  },
  "language_info": {
   "codemirror_mode": {
    "name": "ipython",
    "version": 2
   },
   "file_extension": ".py",
   "mimetype": "text/x-python",
   "name": "python",
   "nbconvert_exporter": "python",
   "pygments_lexer": "ipython2",
   "version": "2.7.9"
  }
 },
 "nbformat": 4,
 "nbformat_minor": 0
}
